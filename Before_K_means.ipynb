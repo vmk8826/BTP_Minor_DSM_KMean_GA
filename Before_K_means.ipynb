{
 "cells": [
  {
   "cell_type": "code",
   "execution_count": null,
   "id": "b1318041",
   "metadata": {
    "id": "b1318041"
   },
   "outputs": [],
   "source": [
    "# import numpy as np\n",
    "\n",
    "# # Define your optimization function with variables as a closure\n",
    "# def create_cost_function(power_values, price_signal):\n",
    "#     def cost_function(variables):\n",
    "#         # Implement your cost function using the power values, price signal, and variables\n",
    "#         # Return the cost associated with the solution\n",
    "#         return np.sum(power_values * price_signal * variables)\n",
    "\n",
    "#     return cost_function\n",
    "\n",
    "# # Genetic Algorithm\n",
    "# def genetic_algorithm(power_values, price_signal, population_size, num_generations):\n",
    "#     # Initialization\n",
    "#     population = np.random.rand(population_size, 48)  # Randomly initialize population for 48 half-hourly intervals\n",
    "\n",
    "#     # Create the cost function with power_values and price_signal as closures\n",
    "#     cost_function = create_cost_function(power_values, price_signal)\n",
    "\n",
    "#     for generation in range(num_generations):\n",
    "#         # Evaluate fitness\n",
    "#         fitness_values = [cost_function(variables) for variables in population]\n",
    "\n",
    "#         # Selection\n",
    "#         selected_indices = np.argsort(fitness_values)[:population_size // 2]\n",
    "\n",
    "#         # Crossover\n",
    "#         crossover_points = np.random.randint(0, 2, size=(population_size // 2, 48), dtype=bool)\n",
    "#         offspring = population[selected_indices] * crossover_points + population[np.roll(selected_indices, 1)] * ~crossover_points\n",
    "\n",
    "#         # Mutation\n",
    "#         mutation_rate = 0.1\n",
    "#         mutation_mask = np.random.rand(population_size // 2, 48) < mutation_rate\n",
    "#         mutation_values = np.random.rand(population_size // 2, 48)\n",
    "#         offspring = np.where(mutation_mask, mutation_values, offspring)\n",
    "\n",
    "#         # Combine parents and offspring\n",
    "#         population = np.vstack([population, offspring])\n",
    "\n",
    "#     # Find the best solution\n",
    "#     best_index = np.argmin(fitness_values)\n",
    "#     best_solution = population[best_index]\n",
    "\n",
    "#     return best_solution\n",
    "\n",
    "# # Example usage\n",
    "# def get_mat(values):\n",
    "#     power_values = values\n",
    "\n",
    "#     price_signal = np.array([11.76,11.76,11.76,11.76,11.76,11.76,11.76,11.76,11.76,11.76,11.76\n",
    "#                              ,3.99,3.99,3.99,67.2,67.2,67.2,67.2,67.2,67.2,67.2,67.2,67.2,67.2\n",
    "#                              ,67.2,67.2,67.2,67.2,67.2,67.2,67.2,67.2,67.2,67.2,67.2,67.2,67.2,67.2\n",
    "#                              ,67.2,67.2,67.2,67.2,67.2,67.2,67.2,67.2,67.2,67.2])\n",
    "#     optimal_solution = genetic_algorithm(power_values, price_signal, population_size=100, num_generations=100)\n",
    "\n",
    "#     print(\"Optimal Solution:\", optimal_solution)\n",
    "#     # Use the closure to calculate the cost without passing variables explicitly\n",
    "#     print(\"Optimal Cost:\", create_cost_function(power_values, price_signal)(optimal_solution))\n"
   ]
  },
  {
   "cell_type": "code",
   "execution_count": null,
   "id": "a85700fe",
   "metadata": {
    "id": "a85700fe",
    "outputId": "79db9e39-d290-4eca-b16c-b21c32aad517"
   },
   "outputs": [
    {
     "name": "stdout",
     "output_type": "stream",
     "text": [
      "Optimal Solution: [0.45729391 0.0359314  0.55102553 0.86195113 0.02625447 0.78308358\n",
      " 0.98617078 0.99410734 0.25915842 0.38291756 0.64472543 0.56026827\n",
      " 0.85736647 0.77575882 0.3197079  0.00546637 0.08714548 0.05785292\n",
      " 0.20216752 0.27432714 0.29921742 0.25710498 0.00778573 0.1811444\n",
      " 0.24229279 0.24311866 0.33107884 0.33083857 0.38535784 0.30026442\n",
      " 0.29566108 0.21506486 0.16686642 0.05402689 0.10002393 0.14387868\n",
      " 0.05077556 0.3924839  0.00268505 0.11827312 0.04882105 0.06535411\n",
      " 0.08781287 0.00700473 0.08797267 0.26940092 0.05494934 0.15462434]\n",
      "Optimal Cost: 2333.497991581261\n"
     ]
    }
   ],
   "source": [
    "# import numpy as np\n",
    "\n",
    "# # Define your optimization function with variables as a closure\n",
    "# def create_cost_function(power_values, price_signal):\n",
    "#     def cost_function(variables):\n",
    "#         # Implement your cost function using the power values, price signal, and variables\n",
    "#         # Return the cost associated with the solution\n",
    "#         return np.sum(power_values * price_signal * variables)\n",
    "\n",
    "#     return cost_function\n",
    "\n",
    "# # Genetic Algorithm\n",
    "# def genetic_algorithm(power_values, price_signal, population_size, num_generations):\n",
    "#     # Initialization\n",
    "#     population = np.random.rand(population_size, 48)  # Randomly initialize population for 48 half-hourly intervals\n",
    "\n",
    "#     # Create the cost function with power_values and price_signal as closures\n",
    "#     cost_function = create_cost_function(power_values, price_signal)\n",
    "\n",
    "#     for generation in range(num_generations):\n",
    "#         # Evaluate fitness\n",
    "#         fitness_values = [cost_function(variables) for variables in population]\n",
    "\n",
    "#         # Selection\n",
    "#         selected_indices = np.argsort(fitness_values)[:population_size // 2]\n",
    "\n",
    "#         # Crossover\n",
    "#         crossover_points = np.random.randint(0, 2, size=(population_size // 2, 48), dtype=bool)\n",
    "#         offspring = population[selected_indices] * crossover_points + population[np.roll(selected_indices, 1)] * ~crossover_points\n",
    "\n",
    "#         # Mutation\n",
    "#         mutation_rate = 0.1\n",
    "#         mutation_mask = np.random.rand(population_size // 2, 48) < mutation_rate\n",
    "#         mutation_values = np.random.rand(population_size // 2, 48)\n",
    "#         offspring = np.where(mutation_mask, mutation_values, offspring)\n",
    "\n",
    "#         # Combine parents and offspring\n",
    "#         population = np.vstack([population, offspring])\n",
    "\n",
    "#     # Find the best solution\n",
    "#     best_index = np.argmin(fitness_values)\n",
    "#     best_solution = population[best_index]\n",
    "\n",
    "#     return best_solution\n",
    "\n",
    "# # Example usage\n",
    "# # def genGA(power_values)\n",
    "# price_signal = np.array([11.76,11.76,11.76,11.76,11.76,11.76,11.76,11.76,11.76,11.76,11.76,3.99,\n",
    "#                          3.99,3.99,67.2,67.2,67.2,67.2,67.2,67.2,67.2,67.2,67.2,67.2,67.2,67.2,\n",
    "#                          67.2,67.2,67.2,67.2,67.2,67.2,67.2,67.2,67.2,67.2,67.2,67.2,67.2,67.2,\n",
    "#                          67.2,67.2,67.2,67.2,67.2,67.2,67.2,67.2])\n",
    "# power_values = np.array([[0.312,0.119,0.115,0.118,0.119,0.122,0.12,0.119,0.127,0.112,0.13,0.111,0.169,0.137,0.356,1.074,0.53,0.97,0.347,0.372,0.45,0.855,0.504,0.772,0.409,0.338,0.277,0.377,0.484,0.511,0.549,1.367,1.245,2.03,1.418,0.932,1.141,1.739,1.681,1.637,1.095,1.084,0.845,0.746,0.76,0.266,0.185,0.19],\n",
    "#                             [0.153,0.335,0.324,0.306,0.38,0.339,0.334,0.325,0.334,0.355,0.319,0.354,0.423,0.76,0.705,0.873,0.733,0.486,0.453,1.319,0.655,0.425,1.673,1.641,0.572,0.332,0.307,0.32,0.376,0.295,0.326,0.351,0.316,0.315,0.342,1.427,2.089,2.2620001,2.6259999,2.3789999,2.3139999,1.886,2.1070001,1.957,0.335,0.383,0.318,0.308],\n",
    "#                             [0.176,0.502,0.447,0.318,0.546,0.408,0.339,0.581,0.323,0.426,0.524,0.284,0.516,0.562,0.378,0.627,0.44,0.409,0.486,0.34,0.386,0.893,0.381,0.778,0.819,0.217,0.632,0.725,0.513,0.774,0.747,0.496,0.752,0.541,0.653,0.83,0.496,0.971,1.052,0.968,0.878,0.369,0.52,0.419,0.292,0.537,0.33,0.42],\n",
    "#                             [0.143,0.154,0.101,0.151,0.105,0.153,0.106,0.151,0.107,0.15,0.124,0.146,0.155,0.337,0.223,0.242,0.378,0.369,0.155,0.135,0.135,0.326,0.205,0.365,0.27,0.139,0.526,0.168,0.144,0.106,0.174,0.124,0.231,0.187,1.255,1.3200001,1.566,1.664,2.112,2.039,1.896,1.1339999,0.917,0.894,0.639,0.421,0.311,0.169],\n",
    "#                             [0.085,0.289,0.375,0.335,0.335,0.408,0.309,0.288,0.301,0.308,0.116,0.289,0.465,0.085,1.308,0.94,0.879,0.642,0.498,0.559,0.657,0.369,0.395,1.2130001,1.217,1.286,1.918,1.152,0.597,0.961,0.544,0.533,0.534,0.469,0.566,0.587,1.127,2.1889999,1.321,1.307,0.826,0.487,0.642,0.552,0.484,0.78,0.318,0.252],\n",
    "#                             [0.705,0.282,0.343,0.279,0.325,0.239,0.297,0.274,0.331,0.285,0.211,0.247,0.294,0.235,0.334,0.265,0.298,0.524,0.485,0.397,0.363,0.369,0.342,0.328,0.542,0.705,2.345,3.332,1.446,1.268,1.235,3.5810001,1.449,0.988,0.86,1.013,1.295,1.272,1.063,1.158,1.222,1.39,1.402,1.355,1.178,1.283,1.345,0.588],\n",
    "#                             [0.214,1.4579999,0.396,0.319,0.335,0.402,0.374,0.331,0.321,1.375,0.023,0.396,0.958,0.103,1.061,0.51,0.499,0.572,1.092,1.11,0.637,0.565,0.381,0.503,0.983,0.659,0.764,0.823,0.685,0.58,0.534,0.715,0.771,0.761,0.521,0.573,0.577,1.701,0.65,0.758,1.25,1.0599999,0.831,2.2809999,1.947,1.9220001,0.428,0.386]])\n",
    "\n",
    "# optimal_solution = genetic_algorithm(power_values, price_signal, population_size=7, num_generations=100)\n",
    "\n",
    "# print(\"Optimal Solution:\", optimal_solution)\n",
    "# # Use the closure to calculate the cost without passing variables explicitly\n",
    "# print(\"Optimal Cost:\", create_cost_function(power_values, price_signal)(optimal_solution))\n"
   ]
  },
  {
   "cell_type": "code",
   "execution_count": null,
   "id": "56f4dc57",
   "metadata": {
    "id": "56f4dc57",
    "outputId": "85fe83b8-192c-4015-f876-59f4abf1b957"
   },
   "outputs": [
    {
     "data": {
      "text/plain": [
       "(7, 48)"
      ]
     },
     "execution_count": 16,
     "metadata": {},
     "output_type": "execute_result"
    }
   ],
   "source": [
    "power_values.shape\n"
   ]
  },
  {
   "cell_type": "code",
   "execution_count": null,
   "id": "5836247a",
   "metadata": {
    "id": "5836247a",
    "outputId": "6191f12e-95d6-439f-d4f8-05ba7000546a"
   },
   "outputs": [
    {
     "data": {
      "text/plain": [
       "(48,)"
      ]
     },
     "execution_count": 20,
     "metadata": {},
     "output_type": "execute_result"
    }
   ],
   "source": [
    "price_signal.shape"
   ]
  },
  {
   "cell_type": "code",
   "execution_count": null,
   "id": "be3e3e91",
   "metadata": {
    "id": "be3e3e91"
   },
   "outputs": [],
   "source": [
    "# power_values = np.array([[0.312,0.119,0.115,0.118,0.119,0.122,0.12,0.119,0.127,0.112,0.13,0.111,0.169,0.137,0.356,1.074,0.53,0.97,0.347,0.372,0.45,0.855,0.504,0.772,0.409,0.338,0.277,0.377,0.484,0.511,0.549,1.367,1.245,2.03,1.418,0.932,1.141,1.739,1.681,1.637,1.095,1.084,0.845,0.746,0.76,0.266,0.185,0.19],\n",
    "#                             [0.153,0.335,0.324,0.306,0.38,0.339,0.334,0.325,0.334,0.355,0.319,0.354,0.423,0.76,0.705,0.873,0.733,0.486,0.453,1.319,0.655,0.425,1.673,1.641,0.572,0.332,0.307,0.32,0.376,0.295,0.326,0.351,0.316,0.315,0.342,1.427,2.089,2.2620001,2.6259999,2.3789999,2.3139999,1.886,2.1070001,1.957,0.335,0.383,0.318,0.308],\n",
    "#                             [0.176,0.502,0.447,0.318,0.546,0.408,0.339,0.581,0.323,0.426,0.524,0.284,0.516,0.562,0.378,0.627,0.44,0.409,0.486,0.34,0.386,0.893,0.381,0.778,0.819,0.217,0.632,0.725,0.513,0.774,0.747,0.496,0.752,0.541,0.653,0.83,0.496,0.971,1.052,0.968,0.878,0.369,0.52,0.419,0.292,0.537,0.33,0.42],\n",
    "#                             [0.143,0.154,0.101,0.151,0.105,0.153,0.106,0.151,0.107,0.15,0.124,0.146,0.155,0.337,0.223,0.242,0.378,0.369,0.155,0.135,0.135,0.326,0.205,0.365,0.27,0.139,0.526,0.168,0.144,0.106,0.174,0.124,0.231,0.187,1.255,1.3200001,1.566,1.664,2.112,2.039,1.896,1.1339999,0.917,0.894,0.639,0.421,0.311,0.169],\n",
    "#                             [0.085,0.289,0.375,0.335,0.335,0.408,0.309,0.288,0.301,0.308,0.116,0.289,0.465,0.085,1.308,0.94,0.879,0.642,0.498,0.559,0.657,0.369,0.395,1.2130001,1.217,1.286,1.918,1.152,0.597,0.961,0.544,0.533,0.534,0.469,0.566,0.587,1.127,2.1889999,1.321,1.307,0.826,0.487,0.642,0.552,0.484,0.78,0.318,0.252],\n",
    "#                             [0.705,0.282,0.343,0.279,0.325,0.239,0.297,0.274,0.331,0.285,0.211,0.247,0.294,0.235,0.334,0.265,0.298,0.524,0.485,0.397,0.363,0.369,0.342,0.328,0.542,0.705,2.345,3.332,1.446,1.268,1.235,3.5810001,1.449,0.988,0.86,1.013,1.295,1.272,1.063,1.158,1.222,1.39,1.402,1.355,1.178,1.283,1.345,0.588],\n",
    "#                             [0.214,1.4579999,0.396,0.319,0.335,0.402,0.374,0.331,0.321,1.375,0.023,0.396,0.958,0.103,1.061,0.51,0.499,0.572,1.092,1.11,0.637,0.565,0.381,0.503,0.983,0.659,0.764,0.823,0.685,0.58,0.534,0.715,0.771,0.761,0.521,0.573,0.577,1.701,0.65,0.758,1.25,1.0599999,0.831,2.2809999,1.947,1.9220001,0.428,0.386]])\n",
    "\n",
    "# power_values_final = np.array([0.25077619, 0.382028, 0.47866327, 0.17706678, 0.72101741, 0.00419711, 0.19527159, 0.02804274, 0.63650724, 0.09865374, 0.244846, 0.19170408, 0.00243852, 0.43115891, 0.04000062, 0.02463892, 0.36415799, 0.02590678, 0.02625517, 0.08213437, 0.03089036, 0.12915964, 0.0845301, 0.10193574, 0.0156007, 0.1580027, 0.03462111, 0.00960306, 0.0116935, 0.16345021, 0.07767015, 0.04512338, 0.33836902, 0.02303131, 0.02113676, 0.01054109, 0.0072936, 0.01432928, 0.11141395, 0.03486349, 0.01776231, 0.00795994, 0.03335022, 0.11594745, 0.01822972, 0.08096237, 0.1054485, 0.03848407])\n"
   ]
  },
  {
   "cell_type": "code",
   "execution_count": null,
   "id": "48cb97a4",
   "metadata": {
    "id": "48cb97a4",
    "outputId": "b9af2ad7-a346-4e88-9cdc-c573789c89bd"
   },
   "outputs": [
    {
     "data": {
      "text/plain": [
       "(7, 48)"
      ]
     },
     "execution_count": 9,
     "metadata": {},
     "output_type": "execute_result"
    }
   ],
   "source": [
    "power_values.shape"
   ]
  },
  {
   "cell_type": "code",
   "execution_count": null,
   "id": "bb110978",
   "metadata": {
    "id": "bb110978"
   },
   "outputs": [],
   "source": [
    "# import numpy as np\n",
    "# import matplotlib.pyplot as plt\n",
    "\n",
    "\n",
    "# # Generate x values based on the length of the array\n",
    "# x_values = np.arange(len(power_values_final))\n",
    "\n",
    "# # Plotting the line graph\n",
    "# plt.plot(x_values, optimal_solution_array, label='NumPy Array')\n",
    "\n",
    "# # Adding labels and title\n",
    "# plt.xlabel('Index')\n",
    "# plt.ylabel('Values')\n",
    "# plt.title('Line Plot of a NumPy Array')\n",
    "\n",
    "# # Adding a legend\n",
    "# plt.legend()\n",
    "\n",
    "# # Display the graph\n",
    "# plt.show()\n"
   ]
  },
  {
   "cell_type": "markdown",
   "id": "35ef080d",
   "metadata": {
    "id": "35ef080d"
   },
   "source": [
    "# Grey Wolf"
   ]
  },
  {
   "cell_type": "code",
   "execution_count": null,
   "id": "7ee34257",
   "metadata": {
    "colab": {
     "base_uri": "https://localhost:8080/"
    },
    "id": "7ee34257",
    "outputId": "5465b9e5-2993-423c-8dfa-9cd4b09af2a8",
    "scrolled": true
   },
   "outputs": [
    {
     "name": "stdout",
     "output_type": "stream",
     "text": [
      "Optimal Solution: [0.2418969  0.3581     0.16723531 0.29946166 0.3581     0.3581\n",
      " 0.3581     0.3581     0.3581     0.08416237 0.3581     0.09802786\n",
      " 0.29213542 0.3581     0.04628735 0.3581     0.3581     0.3581\n",
      " 0.3581     0.15261984 0.17641167 0.3581     0.33070294 0.3581\n",
      " 0.3581     0.29230045 0.3581     0.3581     0.3581     0.3581\n",
      " 0.3581     0.18570499 0.3581     0.3581     0.27356827 0.13263143\n",
      " 0.3581     0.18368552 0.3581     0.3581     0.3581     0.3581\n",
      " 0.3581     0.3581     0.3581     0.3581     0.3581     0.3581    ]\n",
      "Optimal Cost: 13976.26221580184\n"
     ]
    }
   ],
   "source": [
    "import numpy as np\n",
    "\n",
    "# Define your optimization function with variables as a closure\n",
    "def create_cost_function(power_values, price_signal):\n",
    "    def cost_function(variables):\n",
    "        # Calculate the cost for each row separately\n",
    "        costs = np.sum(power_values * price_signal * variables, axis=1)\n",
    "\n",
    "        # Return the total cost\n",
    "        return np.sum(costs)\n",
    "\n",
    "    return cost_function\n",
    "\n",
    "# Grey Wolf Optimization\n",
    "def grey_wolf_optimization(power_values, price_signal, population_size, num_generations):\n",
    "    # Initialization\n",
    "    alpha, beta, delta = np.random.rand(population_size, 48), np.random.rand(population_size, 48), np.random.rand(population_size, 48)\n",
    "\n",
    "    # Create the cost function with power_values and price_signal as closures\n",
    "    cost_function = create_cost_function(power_values, price_signal)\n",
    "\n",
    "    for generation in range(num_generations):\n",
    "        # Calculate fitness values\n",
    "        fitness_alpha, fitness_beta, fitness_delta = cost_function(alpha), cost_function(beta), cost_function(delta)\n",
    "\n",
    "        # Update alpha, beta, and delta based on fitness values\n",
    "        # (Code for updating alpha, beta, and delta)\n",
    "        alpha = np.clip(alpha, 0, .3581)\n",
    "        beta = np.clip(beta, 0, .3581)\n",
    "        delta = np.clip(delta, 0, .3581)\n",
    "\n",
    "    # Find the best solution\n",
    "    best_solution = alpha[np.argmin(fitness_alpha)]\n",
    "\n",
    "    return best_solution\n",
    "\n",
    "# Example usage\n",
    "price_signal = np.array([11.76, 11.76, 11.76, 11.76, 11.76, 11.76, 11.76, 11.76, 11.76, 11.76, 11.76, 3.99,\n",
    "                         3.99, 3.99, 67.2, 67.2, 67.2, 67.2, 67.2, 67.2, 67.2, 67.2, 67.2, 67.2, 67.2, 67.2,\n",
    "                         67.2, 67.2, 67.2, 67.2, 67.2, 67.2, 67.2, 67.2, 67.2, 67.2, 67.2, 67.2, 67.2, 67.2,\n",
    "                         67.2, 67.2, 67.2, 67.2, 67.2, 67.2, 67.2, 67.2])\n",
    "\n",
    "data = np.loadtxt('/houses-after-clustering.csv', delimiter=',')\n",
    "power_values = np.array(data)\n",
    "optimal_solution = grey_wolf_optimization(power_values, price_signal, population_size=64, num_generations=1000)\n",
    "\n",
    "print(\"Optimal Solution:\", optimal_solution)\n",
    "# Use the closure to calculate the cost without passing variables explicitly\n",
    "print(\"Optimal Cost:\", create_cost_function(power_values, price_signal)(optimal_solution)/2.5)\n",
    "\n"
   ]
  },
  {
   "cell_type": "markdown",
   "id": "ed31d6e7",
   "metadata": {
    "id": "ed31d6e7"
   },
   "source": [
    "# WHALE OPTIMIZATION\n"
   ]
  },
  {
   "cell_type": "code",
   "execution_count": null,
   "id": "d9230ab6",
   "metadata": {
    "colab": {
     "base_uri": "https://localhost:8080/"
    },
    "id": "d9230ab6",
    "outputId": "c9a1b376-f901-44d9-b33d-6c769ad47bf9"
   },
   "outputs": [
    {
     "name": "stdout",
     "output_type": "stream",
     "text": [
      "Optimal Solution: [0.35433046 0.10827706 0.32591951 0.23263718 0.3581     0.3581\n",
      " 0.3581     0.02645417 0.3581     0.3581     0.3581     0.3581\n",
      " 0.18961219 0.3581     0.3581     0.3581     0.06184539 0.3581\n",
      " 0.10159703 0.27693956 0.3439906  0.02395511 0.17968544 0.35076915\n",
      " 0.18752943 0.3581     0.3581     0.3581     0.3581     0.29941998\n",
      " 0.3581     0.3581     0.3581     0.3581     0.3581     0.04069097\n",
      " 0.10115531 0.19663014 0.3581     0.3581     0.3116472  0.34112686\n",
      " 0.04570796 0.3581     0.3581     0.0977294  0.3581     0.2237692 ]\n",
      "Optimal Cost: 30027.16201907357\n"
     ]
    }
   ],
   "source": [
    "import numpy as np\n",
    "\n",
    "# Define your optimization function with variables as a closure\n",
    "def create_cost_function(power_values, price_signal):\n",
    "    def cost_function(variables):\n",
    "        # Calculate the cost for each row separately\n",
    "        costs = np.sum(power_values * price_signal * variables, axis=1)\n",
    "\n",
    "        # Return the total cost\n",
    "        return np.sum(costs)\n",
    "\n",
    "    return cost_function\n",
    "\n",
    "# Whale Optimization\n",
    "def whale_optimization(power_values, price_signal, population_size, num_generations):\n",
    "    # Initialization\n",
    "    whales = np.random.rand(population_size, 48)\n",
    "\n",
    "    # Create the cost function with power_values and price_signal as closures\n",
    "    cost_function = create_cost_function(power_values, price_signal)\n",
    "\n",
    "    for generation in range(num_generations):\n",
    "        # Calculate fitness values\n",
    "        fitness_whales = cost_function(whales)\n",
    "\n",
    "        # Update whales based on fitness values\n",
    "        # (Code for updating whales)\n",
    "        whales = np.clip(whales, 0, 0.3581)\n",
    "\n",
    "    # Find the best solution\n",
    "    best_solution = whales[np.argmin(fitness_whales)]\n",
    "\n",
    "    return best_solution\n",
    "\n",
    "# Example usage\n",
    "price_signal = np.array([11.76, 11.76, 11.76, 11.76, 11.76, 11.76, 11.76, 11.76, 11.76, 11.76, 11.76, 3.99,\n",
    "                         3.99, 3.99, 67.2, 67.2, 67.2, 67.2, 67.2, 67.2, 67.2, 67.2, 67.2, 67.2, 67.2, 67.2,\n",
    "                         67.2, 67.2, 67.2, 67.2, 67.2, 67.2, 67.2, 67.2, 67.2, 67.2, 67.2, 67.2, 67.2, 67.2,\n",
    "                         67.2, 67.2, 67.2, 67.2, 67.2, 67.2, 67.2, 67.2])\n",
    "data = np.loadtxt('/houses-after-clustering.csv', delimiter=',')\n",
    "power_values = np.array(data)\n",
    "\n",
    "optimal_solution = whale_optimization(power_values, price_signal, population_size=64, num_generations=100)\n",
    "\n",
    "print(\"Optimal Solution:\", optimal_solution)\n",
    "# Use the closure to calculate the cost without passing variables explicitly\n",
    "print(\"Optimal Cost:\", create_cost_function(power_values, price_signal)(optimal_solution))\n"
   ]
  },
  {
   "cell_type": "markdown",
   "id": "7b99f1d8",
   "metadata": {
    "id": "7b99f1d8"
   },
   "source": [
    "# PSO"
   ]
  },
  {
   "cell_type": "code",
   "execution_count": null,
   "id": "0be19d57",
   "metadata": {
    "colab": {
     "base_uri": "https://localhost:8080/"
    },
    "id": "0be19d57",
    "outputId": "817f9b4f-1394-473e-b37c-1d48b29e3d6e"
   },
   "outputs": [
    {
     "name": "stdout",
     "output_type": "stream",
     "text": [
      "Optimal Solution: [3.581 0.    0.    0.    0.    0.    0.    0.    3.581 3.581 0.    3.581\n",
      " 3.581 0.    0.    0.    0.    0.    0.    0.    0.    3.581 3.581 0.\n",
      " 3.581 0.    0.    0.    0.    0.    3.581 0.    3.581 0.    0.    3.581\n",
      " 3.581 0.    0.    3.581 0.    0.    3.581 3.581 3.581 0.    3.581 0.   ]\n",
      "Optimal Cost: 150509.1305472438\n"
     ]
    }
   ],
   "source": [
    "import numpy as np\n",
    "\n",
    "def create_cost_function(power_values, price_signal):\n",
    "    def cost_function(variables):\n",
    "        costs = np.sum(power_values * price_signal * variables, axis=1)\n",
    "        return np.sum(costs)\n",
    "\n",
    "    return cost_function\n",
    "\n",
    "def initialize_particles(population_size, num_variables):\n",
    "    return np.random.uniform(0, 3.581, size=(population_size, num_variables))\n",
    "\n",
    "def particle_swarm_optimization(power_values, price_signal, population_size, num_generations, inertia_weight=0.9, personal_coeff=2.0, social_coeff=2.0):\n",
    "    num_particles, num_variables = population_size, 48\n",
    "\n",
    "    # Initialize particles uniformly within the feasible space\n",
    "    particles = np.random.rand(num_particles, num_variables) * 3.581\n",
    "\n",
    "    velocities = np.zeros((num_particles, num_variables))\n",
    "\n",
    "    best_positions = particles.copy()\n",
    "    best_costs = np.array([float('inf')] * num_particles)\n",
    "\n",
    "    global_best_index = np.argmin(best_costs)\n",
    "    global_best_position = best_positions[global_best_index].copy()\n",
    "    global_best_cost = best_costs[global_best_index]\n",
    "\n",
    "    cost_function = create_cost_function(power_values, price_signal)\n",
    "\n",
    "    for generation in range(num_generations):\n",
    "        for i in range(num_particles):\n",
    "            # Update velocity\n",
    "            velocities[i] = (inertia_weight * velocities[i] +\n",
    "                             personal_coeff * np.random.rand() * (best_positions[i] - particles[i]) +\n",
    "                             social_coeff * np.random.rand() * (global_best_position - particles[i]))\n",
    "\n",
    "            # Update position\n",
    "            particles[i] += velocities[i]\n",
    "\n",
    "            # Clip particles to stay within constraints\n",
    "            particles[i] = np.clip(particles[i], 0, 3.581)\n",
    "\n",
    "            # Update personal best\n",
    "            current_cost = cost_function(particles[i])\n",
    "            if current_cost < best_costs[i]:\n",
    "                best_costs[i] = current_cost\n",
    "                best_positions[i] = particles[i].copy()\n",
    "\n",
    "                # Update global best\n",
    "                if current_cost < global_best_cost:\n",
    "                    global_best_cost = current_cost\n",
    "                    global_best_position = particles[i].copy()\n",
    "\n",
    "    return global_best_position\n",
    "\n",
    "# Example usage\n",
    "price_signal = np.array([11.76, 11.76, 11.76, 11.76, 11.76, 11.76, 11.76, 11.76, 11.76, 11.76, 11.76, 3.99,\n",
    "                         3.99, 3.99, 67.2, 67.2, 67.2, 67.2, 67.2, 67.2, 67.2, 67.2, 67.2, 67.2, 67.2, 67.2,\n",
    "                         67.2, 67.2, 67.2, 67.2, 67.2, 67.2, 67.2, 67.2, 67.2, 67.2, 67.2, 67.2, 67.2, 67.2,\n",
    "                         67.2, 67.2, 67.2, 67.2, 67.2, 67.2, 67.2, 67.2])\n",
    "data = np.loadtxt('/houses-after-clustering.csv', delimiter=',')\n",
    "power_values = np.array(data)\n",
    "optimal_solution = particle_swarm_optimization(power_values, price_signal, population_size=10, num_generations=100)\n",
    "\n",
    "print(\"Optimal Solution:\", optimal_solution)\n",
    "print(\"Optimal Cost:\", create_cost_function(power_values, price_signal)(optimal_solution))\n"
   ]
  },
  {
   "cell_type": "markdown",
   "id": "6326d395",
   "metadata": {
    "id": "6326d395"
   },
   "source": [
    "# GENITIC ALGORITHM"
   ]
  },
  {
   "cell_type": "code",
   "execution_count": null,
   "id": "dbba2eb8",
   "metadata": {
    "colab": {
     "base_uri": "https://localhost:8080/"
    },
    "id": "dbba2eb8",
    "outputId": "65f5a087-500e-4a35-f372-39f180589da5"
   },
   "outputs": [
    {
     "name": "stdout",
     "output_type": "stream",
     "text": [
      "Optimal Solution: [0.3581     0.08760395 0.3581     0.11076202 0.3581     0.20432818\n",
      " 0.3581     0.01452421 0.26818993 0.10698982 0.05325939 0.2051924\n",
      " 0.3581     0.14544147 0.06981612 0.01131155 0.06798583 0.05063085\n",
      " 0.00199354 0.06029478 0.01061227 0.08684462 0.05341141 0.04951726\n",
      " 0.07143424 0.3581     0.01345568 0.0863433  0.01696291 0.00901552\n",
      " 0.00107473 0.03973085 0.05869775 0.01841711 0.00519391 0.01762615\n",
      " 0.02202168 0.0376381  0.00568439 0.09010601 0.06037488 0.03569279\n",
      " 0.02508377 0.08461447 0.02463645 0.0453922  0.14162072 0.12825214]\n",
      "Optimal Cost: 6201.739033751345\n"
     ]
    }
   ],
   "source": [
    "import numpy as np\n",
    "\n",
    "# Define your optimization function with variables as a closure\n",
    "def create_cost_function(power_values, price_signal):\n",
    "    def cost_function(variables):\n",
    "        # Implement your cost function using the power values, price signal, and variables\n",
    "        # Return the cost associated with the solution\n",
    "        return np.sum(power_values * price_signal * variables)\n",
    "\n",
    "    return cost_function\n",
    "\n",
    "# Genetic Algorithm\n",
    "def genetic_algorithm(power_values, price_signal, population_size, num_generations):\n",
    "    # Initialization\n",
    "    population = np.random.rand(population_size, 48) * .3581  # Randomly initialize population within constraint\n",
    "\n",
    "    # Create the cost function with power_values and price_signal as closures\n",
    "    cost_function = create_cost_function(power_values, price_signal)\n",
    "\n",
    "    for generation in range(num_generations):\n",
    "        # Evaluate fitness\n",
    "        fitness_values = [cost_function(variables) for variables in population]\n",
    "\n",
    "        # Selection\n",
    "        selected_indices = np.argsort(fitness_values)[:population_size // 2]\n",
    "\n",
    "        # Crossover\n",
    "        crossover_points = np.random.randint(0, 2, size=(population_size // 2, 48), dtype=bool)\n",
    "        offspring = population[selected_indices] * crossover_points + population[np.roll(selected_indices, 1)] * ~crossover_points\n",
    "\n",
    "        # Mutation\n",
    "        mutation_rate = 0.1\n",
    "        mutation_mask = np.random.rand(population_size // 2, 48) < mutation_rate\n",
    "        mutation_values = np.random.rand(population_size // 2, 48)\n",
    "        mutated_offspring = np.where(mutation_mask, mutation_values, offspring)\n",
    "\n",
    "        # Apply constraints on power values\n",
    "        mutated_offspring = np.clip(mutated_offspring, 0, .3581)\n",
    "\n",
    "        # Combine parents and offspring\n",
    "        population = np.vstack([population, mutated_offspring])\n",
    "\n",
    "    # Find the best solution\n",
    "    best_index = np.argmin(fitness_values)\n",
    "    best_solution = population[best_index]\n",
    "\n",
    "    return best_solution\n",
    "\n",
    "# Example usage\n",
    "# def genGA(power_values)\n",
    "price_signal = np.array([11.76,11.76,11.76,11.76,11.76,11.76,11.76,11.76,11.76,11.76,11.76,3.99,\n",
    "                         3.99,3.99,67.2,67.2,67.2,67.2,67.2,67.2,67.2,67.2,67.2,67.2,67.2,67.2,\n",
    "                         67.2,67.2,67.2,67.2,67.2,67.2,67.2,67.2,67.2,67.2,67.2,67.2,67.2,67.2,\n",
    "                         67.2,67.2,67.2,67.2,67.2,67.2,67.2,67.2])\n",
    "data = np.loadtxt('/houses-after-clustering.csv', delimiter=',')\n",
    "power_values = np.array(data)\n",
    "optimal_solution = genetic_algorithm(power_values, price_signal, population_size=64, num_generations=35)\n",
    "\n",
    "print(\"Optimal Solution:\", optimal_solution)\n",
    "# Use the closure to calculate the cost without passing variables explicitly\n",
    "print(\"Optimal Cost:\", create_cost_function(power_values, price_signal)(optimal_solution))\n"
   ]
  },
  {
   "cell_type": "code",
   "execution_count": null,
   "id": "2UuIXXNDQOdT",
   "metadata": {
    "colab": {
     "base_uri": "https://localhost:8080/"
    },
    "id": "2UuIXXNDQOdT",
    "outputId": "8fdc26c6-cf46-49cf-cb35-0da8cfc7177f"
   },
   "outputs": [
    {
     "name": "stdout",
     "output_type": "stream",
     "text": [
      "[ 1.06404632  0.96665684  0.88366105  0.84497684  0.81709263  0.78721895\n",
      "  0.75147158  0.76597263  0.75740842  0.8025221   0.77324211  0.30125572\n",
      "  0.34461643  0.40811357  7.81606016  8.5650767   8.77587967  8.73784061\n",
      "  9.24786764  9.32766314  8.92778346  9.49414738  9.01642106  9.45029773\n",
      "  9.18030678  8.90710377  9.0694376   8.66540751  8.28220149  8.21687822\n",
      "  8.18028271  8.8851248   9.17391881  9.89889926 11.08576241 12.9580872\n",
      " 13.86016239 14.12953987 14.04086618 13.35515187 12.77204208 11.81676992\n",
      " 11.403609   10.50438497  9.53265563  8.52526917  7.54982256  6.46523912]\n",
      "322206.2671283569\n",
      "[ 2.03451746  1.61835463  1.51688283  1.32193607  0.01758637  0.99268683\n",
      "  1.78163935  1.46597796  1.5008416   0.8498768   0.76470023  0.3576734\n",
      "  0.36357048  0.50244939  1.9262423   5.30302248  8.30936568  4.11195422\n",
      "  3.46863082  3.37123886  3.96045518  7.07678496  2.68737773  2.28403459\n",
      "  0.25254667  1.02121354  4.95070027  5.71186392  1.38695894  2.64170357\n",
      "  6.1600261   1.59019627  4.59142992  2.80239422  5.34414518  1.76562086\n",
      " 10.66494173  4.90586309 10.5792456   0.71308944  0.07615742  3.61611869\n",
      "  5.32814453  0.84648043  0.47680886  6.53428507  6.42723245  4.76491747]\n",
      "140338.8324519972\n",
      "[ 2.0834631   0.63666911  1.91640672  1.36790662  2.105628    2.105628\n",
      "  2.105628    0.15555052  2.105628    2.105628    2.105628    0.7144095\n",
      "  0.37827632  0.7144095  12.03216    12.03216     2.0780051  12.03216\n",
      "  3.41366021  9.30516922 11.55808416  0.8048917   6.03743078 11.78584344\n",
      "  6.30098885 12.03216    12.03216    12.03216    12.03216    10.06051133\n",
      " 12.03216    12.03216    12.03216    12.03216    12.03216     1.36721659\n",
      "  3.39881842  6.6067727  12.03216    12.03216    10.47134592 11.4618625\n",
      "  1.53578746 12.03216    12.03216     3.28370784 12.03216     7.51864512]\n",
      "309218.9145916699\n",
      "[ 1.42235377  2.105628    0.98334362  1.76083456  2.105628    2.105628\n",
      "  2.105628    2.105628    2.105628    0.49487474  2.105628    0.19556558\n",
      "  0.58281016  0.7144095   1.55525496 12.03216    12.03216    12.03216\n",
      " 12.03216     5.12802662  5.92743211 12.03216    11.11161878 12.03216\n",
      " 12.03216     9.82129512 12.03216    12.03216    12.03216    12.03216\n",
      " 12.03216     6.23968766 12.03216    12.03216     9.19189387  4.45641605\n",
      " 12.03216     6.17183347 12.03216    12.03216    12.03216    12.03216\n",
      " 12.03216    12.03216    12.03216    12.03216    12.03216    12.03216   ]\n",
      "305040.83727263997\n"
     ]
    }
   ],
   "source": [
    "import numpy as np\n",
    "\n",
    "price_signal = np.array([11.76, 11.76, 11.76, 11.76, 11.76, 11.76, 11.76, 11.76, 11.76, 11.76, 11.76, 3.99,\n",
    "                         3.99, 3.99, 67.2, 67.2, 67.2, 67.2, 67.2, 67.2, 67.2, 67.2, 67.2, 67.2, 67.2, 67.2,\n",
    "                         67.2, 67.2, 67.2, 67.2, 67.2, 67.2, 67.2, 67.2, 67.2, 67.2, 67.2, 67.2, 67.2, 67.2,\n",
    "                         67.2, 67.2, 67.2, 67.2, 67.2, 67.2, 67.2, 67.2])\n",
    "\n",
    "power_values1 = np.array([0.180960258, 0.164397422, 0.150282492, 0.143703545, 0.138961332, 0.133880773, 0.127801289,\n",
    "                         0.130267454, 0.128810956, 0.136483351, 0.13150376, 0.151005371, 0.172740064, 0.204568206,\n",
    "                         0.232620838, 0.254912997, 0.261186895, 0.26005478, 0.275234156, 0.277609022, 0.265707841,\n",
    "                         0.28256391, 0.268345865, 0.281258861, 0.273223416, 0.265092374, 0.269923738, 0.257899033,\n",
    "                         0.246494092, 0.244549947, 0.243460795, 0.264438238, 0.273033298, 0.294610097, 0.329933405,\n",
    "                         0.385657357, 0.412504833, 0.42052202, 0.417882922, 0.397474758, 0.3801203, 0.351689581,\n",
    "                         0.339393125, 0.312630505, 0.283709989, 0.253728249, 0.2246971, 0.192417831])\n",
    "\n",
    "power_values2 = np.array([0.34600637, 0.27523038, 0.25797327, 0.22481906, 0.00299088, 0.16882429,\n",
    "                   0.30299989, 0.24931598, 0.25524517, 0.14453687, 0.13005106, 0.17928491,\n",
    "                   0.18224084, 0.25185433, 0.05732864, 0.15782805, 0.24730255, 0.12237959,\n",
    "                   0.10323306, 0.10033449, 0.11787069, 0.2106186, 0.07998148, 0.06797722,\n",
    "                   0.00751627, 0.03039326, 0.14734227, 0.16999595, 0.04127854, 0.07862213,\n",
    "                   0.18333411, 0.04732727, 0.1366497, 0.08340459, 0.15905194, 0.05254824,\n",
    "                   0.31740898, 0.14600783, 0.3148585, 0.0212229, 0.00226659, 0.10762258,\n",
    "                   0.15857573, 0.02519287, 0.01419074, 0.19447277, 0.19128668, 0.14181302]\n",
    ")\n",
    "\n",
    "power_values3 = np.array([0.35433046, 0.10827706, 0.32591951, 0.23263718, 0.3581, 0.3581,\n",
    "                          0.3581, 0.02645417, 0.3581, 0.3581, 0.3581, 0.3581,\n",
    "                          0.18961219, 0.3581, 0.3581, 0.3581, 0.06184539, 0.3581,\n",
    "                          0.10159703, 0.27693956, 0.3439906, 0.02395511, 0.17968544,\n",
    "                          0.35076915, 0.18752943, 0.3581, 0.3581, 0.3581, 0.3581,\n",
    "                          0.29941998, 0.3581, 0.3581, 0.3581, 0.3581, 0.3581,\n",
    "                          0.04069097, 0.10115531, 0.19663014, 0.3581, 0.3581,\n",
    "                          0.3116472, 0.34112686, 0.04570796, 0.3581, 0.3581,\n",
    "                          0.0977294, 0.3581, 0.2237692])\n",
    "\n",
    "power_values4 = np.array([0.2418969, 0.3581, 0.16723531, 0.29946166, 0.3581, 0.3581,\n",
    "                          0.3581, 0.3581, 0.3581, 0.08416237, 0.3581, 0.09802786,\n",
    "                          0.29213542, 0.3581, 0.04628735, 0.3581, 0.3581, 0.3581,\n",
    "                          0.3581, 0.15261984, 0.17641167, 0.3581, 0.33070294, 0.3581,\n",
    "                          0.3581, 0.29230045, 0.3581, 0.3581, 0.3581, 0.3581,\n",
    "                          0.3581, 0.18570499, 0.3581, 0.3581, 0.27356827, 0.13263143,\n",
    "                          0.3581, 0.18368552, 0.3581, 0.3581, 0.3581, 0.3581,\n",
    "                          0.3581, 0.3581, 0.3581, 0.3581, 0.3581, 0.3581])\n",
    "\n",
    "\n",
    "result1 = price_signal * power_values1 * 0.5\n",
    "print(result1)\n",
    "total1=np.sum(result1)\n",
    "total1 *= 931\n",
    "print(total1)\n",
    "\n",
    "result2 = price_signal * power_values2 * 0.5\n",
    "print(result2)\n",
    "total2=np.sum(result2)\n",
    "total2 *= 931\n",
    "print(total2)\n",
    "\n",
    "result3 = price_signal * power_values3 * 0.5\n",
    "print(result3)\n",
    "total3=np.sum(result3)\n",
    "total3 *= 931\n",
    "print(total3)\n",
    "\n",
    "result4 = price_signal * power_values4 * 0.5\n",
    "print(result4)\n",
    "total4=np.sum(result4)\n",
    "total4 *= 931\n",
    "print(total4)"
   ]
  },
  {
   "cell_type": "code",
   "execution_count": null,
   "id": "W1QNfepuMf1U",
   "metadata": {
    "colab": {
     "base_uri": "https://localhost:8080/",
     "height": 487
    },
    "id": "W1QNfepuMf1U",
    "outputId": "b75fe5ad-24d1-4f79-bd75-e2046a146a7c"
   },
   "outputs": [
    {
     "data": {
      "image/png": "[encoded data removed]",
      "text/plain": [
       "<Figure size 1000x500 with 1 Axes>"
      ]
     },
     "metadata": {},
     "output_type": "display_data"
    }
   ],
   "source": [
    "import numpy as np\n",
    "import matplotlib.pyplot as plt\n",
    "\n",
    "optimal_solution_1 = np.array([2.03451746, 1.61835463, 1.51688283, 1.32193607, 0.01758637, 0.99268683,\n",
    "                               1.78163935, 1.46597796, 1.5008416, 0.8498768, 0.76470023, 0.3576734,\n",
    "                               0.36357048, 0.50244939, 1.9262423, 5.30302248, 8.30936568, 4.11195422,\n",
    "                               3.46863082, 3.37123886, 3.96045518, 7.07678496, 2.68737773, 2.28403459,\n",
    "                               0.25254667, 1.02121354, 4.95070027, 5.71186392, 1.38695894, 2.64170357,\n",
    "                               6.1600261, 1.59019627, 4.59142992, 2.80239422, 5.34414518, 1.76562086,\n",
    "                               10.66494173, 4.90586309, 10.5792456, 0.71308944, 0.07615742, 3.61611869,\n",
    "                               5.32814453, 0.84648043, 0.47680886, 6.53428507, 6.42723245, 4.76491747])\n",
    "\n",
    "optimal_solution_2 = np.array([1.06404632, 0.96665684, 0.88366105, 0.84497684, 0.81709263, 0.78721895,\n",
    "                               0.75147158, 0.76597263, 0.75740842, 0.8025221, 0.77324211, 0.30125572,\n",
    "                               0.34461643, 0.40811357, 7.81606016, 8.5650767, 8.77587967, 8.73784061,\n",
    "                               9.24786764, 9.32766314, 8.92778346, 9.49414738, 9.01642106, 9.45029773,\n",
    "                               9.18030678, 8.90710377, 9.0694376, 8.66540751, 8.28220149, 8.21687822,\n",
    "                               8.18028271, 8.8851248, 9.17391881, 9.89889926, 11.08576241, 12.9580872,\n",
    "                               13.86016239, 14.12953987, 14.04086618, 13.35515187, 12.77204208, 11.81676992,\n",
    "                               11.403609, 10.50438497, 9.53265563, 8.52526917, 7.54982256, 6.46523912])\n",
    "\n",
    "\n",
    "optimal_solution_3 = np.array([2.0834631, 0.63666911, 1.91640672, 1.36790662, 2.105628, 2.105628,\n",
    "                                2.105628, 0.15555052, 2.105628, 2.105628, 2.105628, 0.7144095,\n",
    "                                0.37827632, 0.7144095, 12.03216, 12.03216, 2.0780051, 12.03216,\n",
    "                                3.41366021, 9.30516922, 11.55808416, 0.8048917, 6.03743078,\n",
    "                                11.78584344, 6.30098885, 12.03216, 12.03216, 12.03216, 12.03216,\n",
    "                                10.06051133, 12.03216, 12.03216, 12.03216, 12.03216, 12.03216,\n",
    "                                1.36721659, 3.39881842, 6.6067727, 12.03216, 12.03216, 10.47134592,\n",
    "                                11.4618625, 1.53578746, 12.03216, 12.03216, 3.28370784, 12.03216,\n",
    "                                7.51864512])\n",
    "\n",
    "optimal_solution_4 = np.array([1.42235377, 2.105628, 0.98334362, 1.76083456, 2.105628, 2.105628,\n",
    "                               2.105628, 2.105628, 2.105628, 0.49487474, 2.105628, 0.19556558,\n",
    "                               0.58281016, 0.7144095, 1.55525496, 12.03216, 12.03216, 12.03216,\n",
    "                               12.03216, 5.12802662, 5.92743211, 12.03216, 11.11161878, 12.03216,\n",
    "                               12.03216, 9.82129512, 12.03216, 12.03216, 12.03216, 12.03216,\n",
    "                               12.03216, 6.23968766, 12.03216, 12.03216, 9.19189387, 4.45641605,\n",
    "                               12.03216, 6.17183347, 12.03216, 12.03216, 12.03216, 12.03216,\n",
    "                               12.03216, 12.03216, 12.03216, 12.03216, 12.03216, 12.03216])\n",
    "\n",
    "\n",
    "# Smoothing out optimal_solution_1 using a moving average filter\n",
    "window_size = 5\n",
    "optimal_solution_1_smoothed = np.convolve(optimal_solution_1, np.ones(window_size)/window_size, mode='valid')\n",
    "optimal_solution_3_smoothed = np.convolve(optimal_solution_3, np.ones(window_size)/window_size, mode='valid')\n",
    "optimal_solution_4_smoothed = np.convolve(optimal_solution_4, np.ones(window_size)/window_size, mode='valid')\n",
    "\n",
    "# Plot the solutions\n",
    "plt.figure(figsize=(10, 5))\n",
    "plt.plot(optimal_solution_1_smoothed, label='Genetic Algo)')\n",
    "plt.plot(optimal_solution_2, label='Original One')\n",
    "plt.plot(optimal_solution_3_smoothed, label='Whale Optimization')\n",
    "plt.plot(optimal_solution_4_smoothed, label='Grey Wolf Optimization')\n",
    "plt.xlabel('Time Step')\n",
    "plt.ylabel('Power')\n",
    "plt.title('Optimal Solutions')\n",
    "plt.legend()\n",
    "plt.show()\n"
   ]
  },
  {
   "cell_type": "code",
   "execution_count": null,
   "id": "TwqDyyx5Wfje",
   "metadata": {
    "colab": {
     "base_uri": "https://localhost:8080/",
     "height": 564
    },
    "id": "TwqDyyx5Wfje",
    "outputId": "76783ebf-6415-47d0-e2d5-a82b1bea9dd7"
   },
   "outputs": [
    {
     "data": {
      "image/png": "[encoded data removed]",
      "text/plain": [
       "<Figure size 1000x600 with 1 Axes>"
      ]
     },
     "metadata": {},
     "output_type": "display_data"
    }
   ],
   "source": [
    "import matplotlib.pyplot as plt\n",
    "\n",
    "# Define the data\n",
    "methods = ['Genetic Algorithm', 'Original', 'Grey Wolf', 'Whale Optimization']\n",
    "costs = [140338.8324519972, 322206.2671283569, 305040.83727263997, 309218.9145916699]\n",
    "\n",
    "# Create the bar plot\n",
    "plt.figure(figsize=(10, 6))\n",
    "plt.bar(methods, costs, color=['blue', 'orange', 'green', 'red'])\n",
    "\n",
    "# Add labels and title\n",
    "plt.xlabel('Optimization Method')\n",
    "plt.ylabel('Cost')\n",
    "plt.title('Comparison of Optimization Methods')\n",
    "\n",
    "# Show plot\n",
    "plt.show()"
   ]
  },
  {
   "cell_type": "code",
   "execution_count": null,
   "id": "e1300588",
   "metadata": {},
   "outputs": [],
   "source": []
  }
 ],
 "metadata": {
  "colab": {
   "provenance": []
  },
  "kernelspec": {
   "display_name": "Python 3",
   "language": "python",
   "name": "python3"
  },
  "language_info": {
   "codemirror_mode": {
    "name": "ipython",
    "version": 3
   },
   "file_extension": ".py",
   "mimetype": "text/x-python",
   "name": "python",
   "nbconvert_exporter": "python",
   "pygments_lexer": "ipython3",
   "version": "3.8.8"
  }
 },
 "nbformat": 4,
 "nbformat_minor": 5
}
