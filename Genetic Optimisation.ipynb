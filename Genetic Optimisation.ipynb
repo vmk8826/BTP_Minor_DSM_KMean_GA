{
 "cells": [
  {
   "cell_type": "code",
   "execution_count": 16,
   "id": "b1318041",
   "metadata": {},
   "outputs": [
    {
     "name": "stdout",
     "output_type": "stream",
     "text": [
      "Optimal Solution: [0.18193598 0.27909286 0.32534491 0.37159422 0.33491779 0.04901317\n",
      " 0.53036487 0.07685585 0.54430094 0.39078123 0.68189584 0.10146807\n",
      " 0.02103451 0.1989074  0.05600408 0.04403639 0.01803855 0.04302207\n",
      " 0.06630912 0.02844785 0.11360231 0.00621547 0.13018123 0.06012476\n",
      " 0.00916059 0.02213897 0.04754616 0.06865841 0.0044479  0.0134063\n",
      " 0.04671422 0.11273168 0.05657386 0.2476065  0.04235333 0.05616627\n",
      " 0.01497981 0.01431521 0.00683464 0.07795947 0.00305849 0.06079615\n",
      " 0.06826402 0.03395585 0.01030308 0.18690699 0.00818904 0.10499706]\n",
      "Optimal Cost: 292.5902895549017\n"
     ]
    }
   ],
   "source": [
    "import numpy as np\n",
    "\n",
    "# Define your optimization function with variables as a closure\n",
    "def create_cost_function(power_values, price_signal):\n",
    "    def cost_function(variables):\n",
    "        # Implement your cost function using the power values, price signal, and variables\n",
    "        # Return the cost associated with the solution\n",
    "        return np.sum(power_values * price_signal * variables)\n",
    "    \n",
    "    return cost_function\n",
    "\n",
    "# Genetic Algorithm\n",
    "def genetic_algorithm(power_values, price_signal, population_size, num_generations):\n",
    "    # Initialization\n",
    "    population = np.random.rand(population_size, 48)  # Randomly initialize population for 48 half-hourly intervals\n",
    "\n",
    "    # Create the cost function with power_values and price_signal as closures\n",
    "    cost_function = create_cost_function(power_values, price_signal)\n",
    "\n",
    "    for generation in range(num_generations):\n",
    "        # Evaluate fitness\n",
    "        fitness_values = [cost_function(variables) for variables in population]\n",
    "\n",
    "        # Selection\n",
    "        selected_indices = np.argsort(fitness_values)[:population_size // 2]\n",
    "\n",
    "        # Crossover\n",
    "        crossover_points = np.random.randint(0, 2, size=(population_size // 2, 48), dtype=bool)\n",
    "        offspring = population[selected_indices] * crossover_points + population[np.roll(selected_indices, 1)] * ~crossover_points\n",
    "\n",
    "        # Mutation\n",
    "        mutation_rate = 0.1\n",
    "        mutation_mask = np.random.rand(population_size // 2, 48) < mutation_rate\n",
    "        mutation_values = np.random.rand(population_size // 2, 48)\n",
    "        offspring = np.where(mutation_mask, mutation_values, offspring)\n",
    "\n",
    "        # Combine parents and offspring\n",
    "        population = np.vstack([population, offspring])\n",
    "\n",
    "    # Find the best solution\n",
    "    best_index = np.argmin(fitness_values)\n",
    "    best_solution = population[best_index]\n",
    "\n",
    "    return best_solution\n",
    "\n",
    "# Example usage\n",
    "def get_mat(values):\n",
    "    power_values = values\n",
    "\n",
    "    price_signal = np.array([11.76,11.76,11.76,11.76,11.76,11.76,11.76,11.76,11.76,11.76,11.76\n",
    "                             ,3.99,3.99,3.99,67.2,67.2,67.2,67.2,67.2,67.2,67.2,67.2,67.2,67.2\n",
    "                             ,67.2,67.2,67.2,67.2,67.2,67.2,67.2,67.2,67.2,67.2,67.2,67.2,67.2,67.2\n",
    "                             ,67.2,67.2,67.2,67.2,67.2,67.2,67.2,67.2,67.2,67.2])\n",
    "    optimal_solution = genetic_algorithm(power_values, price_signal, population_size=100, num_generations=100)\n",
    "\n",
    "    print(\"Optimal Solution:\", optimal_solution)\n",
    "    # Use the closure to calculate the cost without passing variables explicitly\n",
    "    print(\"Optimal Cost:\", create_cost_function(power_values, price_signal)(optimal_solution))\n"
   ]
  },
  {
   "cell_type": "code",
   "execution_count": 26,
   "id": "a85700fe",
   "metadata": {},
   "outputs": [
    {
     "name": "stdout",
     "output_type": "stream",
     "text": [
      "Optimal Solution: [0.35872015 0.04835434 0.20896769 0.20743602 0.46298327 0.63823522\n",
      " 0.4505932  0.59723706 0.10546967 0.9297858  0.55670155 0.89718155\n",
      " 0.40759848 0.00875434 0.04635116 0.04581473 0.09336864 0.03919636\n",
      " 0.07442029 0.08506658 0.00539198 0.0180306  0.37200114 0.00191082\n",
      " 0.11681435 0.06749121 0.10409795 0.02024312 0.17160747 0.0336129\n",
      " 0.05660545 0.05282398 0.1042769  0.24559047 0.00692474 0.0104972\n",
      " 0.02656391 0.03712108 0.19144581 0.00492141 0.03963624 0.00327399\n",
      " 0.09517994 0.05469351 0.07002293 0.15843973 0.08192043 0.07801484]\n",
      "Optimal Cost: 372.3747887988803\n"
     ]
    }
   ],
   "source": [
    "import numpy as np\n",
    "\n",
    "# Define your optimization function with variables as a closure\n",
    "def create_cost_function(power_values, price_signal):\n",
    "    def cost_function(variables):\n",
    "        # Implement your cost function using the power values, price signal, and variables\n",
    "        # Return the cost associated with the solution\n",
    "        return np.sum(power_values * price_signal * variables)\n",
    "    \n",
    "    return cost_function\n",
    "\n",
    "# Genetic Algorithm\n",
    "def genetic_algorithm(power_values, price_signal, population_size, num_generations):\n",
    "    # Initialization\n",
    "    population = np.random.rand(population_size, 48)  # Randomly initialize population for 48 half-hourly intervals\n",
    "\n",
    "    # Create the cost function with power_values and price_signal as closures\n",
    "    cost_function = create_cost_function(power_values, price_signal)\n",
    "\n",
    "    for generation in range(num_generations):\n",
    "        # Evaluate fitness\n",
    "        fitness_values = [cost_function(variables) for variables in population]\n",
    "\n",
    "        # Selection\n",
    "        selected_indices = np.argsort(fitness_values)[:population_size // 2]\n",
    "\n",
    "        # Crossover\n",
    "        crossover_points = np.random.randint(0, 2, size=(population_size // 2, 48), dtype=bool)\n",
    "        offspring = population[selected_indices] * crossover_points + population[np.roll(selected_indices, 1)] * ~crossover_points\n",
    "\n",
    "        # Mutation\n",
    "        mutation_rate = 0.1\n",
    "        mutation_mask = np.random.rand(population_size // 2, 48) < mutation_rate\n",
    "        mutation_values = np.random.rand(population_size // 2, 48)\n",
    "        offspring = np.where(mutation_mask, mutation_values, offspring)\n",
    "\n",
    "        # Combine parents and offspring\n",
    "        population = np.vstack([population, offspring])\n",
    "\n",
    "    # Find the best solution\n",
    "    best_index = np.argmin(fitness_values)\n",
    "    best_solution = population[best_index]\n",
    "\n",
    "    return best_solution\n",
    "\n",
    "# Example usage\n",
    "price_signal = np.array([11.76,11.76,11.76,11.76,11.76,11.76,11.76,11.76,11.76,11.76,11.76,3.99,\n",
    "                         3.99,3.99,67.2,67.2,67.2,67.2,67.2,67.2,67.2,67.2,67.2,67.2,67.2,67.2,\n",
    "                         67.2,67.2,67.2,67.2,67.2,67.2,67.2,67.2,67.2,67.2,67.2,67.2,67.2,67.2,\n",
    "                         67.2,67.2,67.2,67.2,67.2,67.2,67.2,67.2]) \n",
    "power_values = np.array([0.195,1.066,1.072,1.012,1.01,0.96,0.941,0.977,0.989,0.989,1.044,1.096,0.906,1.471,\n",
    "                         1.966,1.806,2.1489999,1.581,1.979,1.431,1.9809999,2.5320001,0.284,2.615,2.51,1.973,\n",
    "                         1.607,1.669,1.053,1.947,1.92,1.994,1.23,1.77,2.0409999,2.7550001,2.9779999,2.779,3.0079999\n",
    "                        ,4.1430001,3.8789999,2.8310001,2.516,2.257,2.8599999,2.0309999,2.6600001,1.362])\n",
    "\n",
    "optimal_solution = genetic_algorithm(power_values, price_signal, population_size=100, num_generations=100)\n",
    "\n",
    "print(\"Optimal Solution:\", optimal_solution)\n",
    "# Use the closure to calculate the cost without passing variables explicitly\n",
    "print(\"Optimal Cost:\", create_cost_function(power_values, price_signal)(optimal_solution))\n"
   ]
  },
  {
   "cell_type": "code",
   "execution_count": 25,
   "id": "be3e3e91",
   "metadata": {},
   "outputs": [
    {
     "name": "stdout",
     "output_type": "stream",
     "text": [
      "5113.77444984\n"
     ]
    }
   ],
   "source": [
    "cost_initially = np.sum(power_values * price_signal)\n",
    "print(cost_initially)"
   ]
  },
  {
   "cell_type": "code",
   "execution_count": null,
   "id": "060735ff",
   "metadata": {},
   "outputs": [],
   "source": []
  }
 ],
 "metadata": {
  "kernelspec": {
   "display_name": "Python 3",
   "language": "python",
   "name": "python3"
  },
  "language_info": {
   "codemirror_mode": {
    "name": "ipython",
    "version": 3
   },
   "file_extension": ".py",
   "mimetype": "text/x-python",
   "name": "python",
   "nbconvert_exporter": "python",
   "pygments_lexer": "ipython3",
   "version": "3.8.8"
  }
 },
 "nbformat": 4,
 "nbformat_minor": 5
}
